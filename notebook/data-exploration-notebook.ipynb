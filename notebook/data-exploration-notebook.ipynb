{
 "cells": [
  {
   "cell_type": "markdown",
   "metadata": {
    "application/vnd.databricks.v1+cell": {
     "cellMetadata": {},
     "inputWidgets": {},
     "nuid": "b924668a-a093-44e7-aa08-0736970d6435",
     "showTitle": false,
     "tableResultSettingsMap": {},
     "title": ""
    }
   },
   "source": [
    "Read data into a dataframe from the north-east station."
   ]
  },
  {
   "cell_type": "code",
   "execution_count": 0,
   "metadata": {
    "application/vnd.databricks.v1+cell": {
     "cellMetadata": {
      "byteLimit": 2048000,
      "rowLimit": 10000
     },
     "inputWidgets": {},
     "nuid": "ff68b410-caf6-4c77-9fee-2db4d0ffb559",
     "showTitle": false,
     "tableResultSettingsMap": {},
     "title": ""
    }
   },
   "outputs": [],
   "source": [
    "raw_path = \"/Volumes/workspace/default/environmental-data-analysis/raw-data/\"\n",
    "\n",
    "north_east_df = spark.read \\\n",
    "            .format(\"csv\") \\\n",
    "            .option(\"header\", \"true\") \\\n",
    "            .option(\"inferSchema\", \"true\") \\\n",
    "            .load(raw_path + \"/northeast.csv\")"
   ]
  },
  {
   "cell_type": "code",
   "execution_count": 0,
   "metadata": {
    "application/vnd.databricks.v1+cell": {
     "cellMetadata": {
      "byteLimit": 2048000,
      "rowLimit": 10000
     },
     "inputWidgets": {},
     "nuid": "89a29f17-a210-40cc-863b-566cc50bb339",
     "showTitle": false,
     "tableResultSettingsMap": {},
     "title": ""
    },
    "jupyter": {
     "outputs_hidden": true
    }
   },
   "outputs": [],
   "source": [
    "display(north_east_df)"
   ]
  },
  {
   "cell_type": "markdown",
   "metadata": {
    "application/vnd.databricks.v1+cell": {
     "cellMetadata": {},
     "inputWidgets": {},
     "nuid": "2effde03-724b-4b3a-a12d-2d56bcf243da",
     "showTitle": false,
     "tableResultSettingsMap": {},
     "title": ""
    }
   },
   "source": [
    "Now I need to inspect the dataframe and determine what needs to be cleaned.\n",
    "\n",
    "From the display above, I can see the following issues:\n",
    "- column names are not in english, and there are spaces between words and special characters (done)\n",
    "- a lot of -9999 values, need to investigate why\n",
    "- index starts at 0 (done-removed)\n",
    "- the hours data uses the current date and only the hours are different. need to make this a date timestamp (done)\n",
    "- a lot of the station data is duplicated from another table called stations.csv. I will keep the station code and remove the rest (done)\n",
    "\n",
    "Before I investigate, I need to rename the column names as it can disrupt some of the functions. \n",
    "\n",
    "Now I need to inspect the dataframe and determine what needs to be cleaned.\n",
    "\n",
    "\n"
   ]
  },
  {
   "cell_type": "code",
   "execution_count": 0,
   "metadata": {
    "application/vnd.databricks.v1+cell": {
     "cellMetadata": {
      "byteLimit": 2048000,
      "rowLimit": 10000
     },
     "inputWidgets": {},
     "nuid": "f237afcb-f42d-408b-bd0f-192fe4278cab",
     "showTitle": false,
     "tableResultSettingsMap": {},
     "title": ""
    }
   },
   "outputs": [],
   "source": [
    "# import dependancies\n",
    "from pyspark.sql.functions import col, date_format, to_timestamp, concat_ws\n",
    "from pyspark.sql.types import TimestampType"
   ]
  },
  {
   "cell_type": "code",
   "execution_count": 0,
   "metadata": {
    "application/vnd.databricks.v1+cell": {
     "cellMetadata": {
      "byteLimit": 2048000,
      "rowLimit": 10000
     },
     "inputWidgets": {},
     "nuid": "17c555ec-14dc-4648-a995-18e2e9edb096",
     "showTitle": false,
     "tableResultSettingsMap": {},
     "title": ""
    }
   },
   "outputs": [],
   "source": [
    "# Take hours from 'hora' and save this as a new column 'formatted_time'\n",
    "df_with_formatted_time = north_east_df.withColumn(\n",
    "    \"formatted_time\",\n",
    "    date_format(col(\"Hora\"), \"HH:mm:ss\"))"
   ]
  },
  {
   "cell_type": "code",
   "execution_count": 0,
   "metadata": {
    "application/vnd.databricks.v1+cell": {
     "cellMetadata": {
      "byteLimit": 2048000,
      "rowLimit": 10000
     },
     "inputWidgets": {},
     "nuid": "bd1a5523-aca2-473f-ba4b-2ed9da8a66ee",
     "showTitle": false,
     "tableResultSettingsMap": {},
     "title": ""
    }
   },
   "outputs": [],
   "source": [
    "# Concatenate 'date' and 'formatted_time' to create a new column 'date_time'\n",
    "df_with_formatted_time = df_with_formatted_time.withColumn(\n",
    "    \"date\",\n",
    "    concat_ws(\" \", col(\"Data\"), col(\"formatted_time\"))\n",
    "    )\n"
   ]
  },
  {
   "cell_type": "code",
   "execution_count": 0,
   "metadata": {
    "application/vnd.databricks.v1+cell": {
     "cellMetadata": {
      "byteLimit": 2048000,
      "rowLimit": 10000
     },
     "inputWidgets": {},
     "nuid": "6fa0da2d-c882-42b9-8b06-e16d7f86a33a",
     "showTitle": false,
     "tableResultSettingsMap": {},
     "title": ""
    }
   },
   "outputs": [],
   "source": [
    "# Convert 'date_time' to timestamp format\n",
    "df_with_timestamp = df_with_formatted_time.withColumn(\n",
    "    \"date\",\n",
    "    col(\"date\").cast(TimestampType())\n",
    ")"
   ]
  },
  {
   "cell_type": "code",
   "execution_count": 0,
   "metadata": {
    "application/vnd.databricks.v1+cell": {
     "cellMetadata": {
      "byteLimit": 2048000,
      "rowLimit": 10000
     },
     "inputWidgets": {},
     "nuid": "1f490c4c-43aa-4209-97eb-dee1e31491cc",
     "showTitle": false,
     "tableResultSettingsMap": {},
     "title": ""
    }
   },
   "outputs": [],
   "source": [
    "# drop unused columns\n",
    "df_with_dropped_columns = df_with_timestamp.drop(\"index\", \"Data\", \"Hora\", \"formatted_time\", \"region\", \"state\", \"station\", \"latitude\", \"longitude\", \"height\")\n",
    "\n",
    "# rename column names\n",
    "df_with_renamed_columns = df_with_dropped_columns.withColumnRenamed(\"PRECIPITAÇÃO TOTAL, HORÁRIO (mm)\", \"prcp\") \\\n",
    "                       .withColumnRenamed(\"PRESSAO ATMOSFERICA AO NIVEL DA ESTACAO, HORARIA (mB)\", \"stp\") \\\n",
    "                       .withColumnRenamed(\"PRESSÃO ATMOSFERICA MAX.NA HORA ANT. (AUT) (mB)\", \"smax\") \\\n",
    "                       .withColumnRenamed(\"PRESSÃO ATMOSFERICA MIN. NA HORA ANT. (AUT) (mB)\", \"smin\") \\\n",
    "                       .withColumnRenamed(\"RADIACAO GLOBAL (Kj/m²)\", \"gbrd\") \\\n",
    "                       .withColumnRenamed(\"TEMPERATURA DO AR - BULBO SECO, HORARIA (°C)\", \"temp\") \\\n",
    "                       .withColumnRenamed(\"TEMPERATURA DO PONTO DE ORVALHO (°C)\", \"dewp\") \\\n",
    "                       .withColumnRenamed(\"TEMPERATURA MÁXIMA NA HORA ANT. (AUT) (°C)\", \"tmax\") \\\n",
    "                       .withColumnRenamed(\"TEMPERATURA MÍNIMA NA HORA ANT. (AUT) (°C)\", \"tmin\") \\\n",
    "                       .withColumnRenamed(\"TEMPERATURA ORVALHO MAX. NA HORA ANT. (AUT) (°C)\", \"dmax\") \\\n",
    "                       .withColumnRenamed(\"TEMPERATURA ORVALHO MIN. NA HORA ANT. (AUT) (°C)\", \"dmin\") \\\n",
    "                       .withColumnRenamed(\"UMIDADE REL. MAX. NA HORA ANT. (AUT) (%)\", \"hmax\") \\\n",
    "                       .withColumnRenamed(\"UMIDADE REL. MIN. NA HORA ANT. (AUT) (%)\", \"hmin\") \\\n",
    "                       .withColumnRenamed(\"UMIDADE RELATIVA DO AR, HORARIA (%)\", \"hmdy\") \\\n",
    "                       .withColumnRenamed(\"VENTO, DIREÇÃO HORARIA (gr) (° (gr))\", \"wdct\") \\\n",
    "                       .withColumnRenamed(\"VENTO, RAJADA MAXIMA (m/s)\", \"gust\") \\\n",
    "                       .withColumnRenamed(\"VENTO, VELOCIDADE HORARIA (m/s)\", \"wdsp\") \\\n",
    "                       .withColumnRenamed(\"station_code\", \"inme\") "
   ]
  },
  {
   "cell_type": "code",
   "execution_count": 0,
   "metadata": {
    "application/vnd.databricks.v1+cell": {
     "cellMetadata": {
      "byteLimit": 2048000,
      "rowLimit": 10000
     },
     "inputWidgets": {},
     "nuid": "8fbcf4dc-7064-4e48-9095-fe95359a952a",
     "showTitle": false,
     "tableResultSettingsMap": {
      "0": {
       "dataGridStateBlob": "{\"version\":1,\"tableState\":{\"columnPinning\":{\"left\":[\"#row_number#\"],\"right\":[]},\"columnSizing\":{},\"columnVisibility\":{}},\"settings\":{\"columns\":{}},\"syncTimestamp\":1758128793906}",
       "filterBlob": null,
       "queryPlanFiltersBlob": null,
       "tableResultIndex": 0
      }
     },
     "title": ""
    },
    "jupyter": {
     "outputs_hidden": true
    }
   },
   "outputs": [],
   "source": [
    "display(df_with_renamed_columns)"
   ]
  },
  {
   "cell_type": "code",
   "execution_count": 0,
   "metadata": {
    "application/vnd.databricks.v1+cell": {
     "cellMetadata": {
      "byteLimit": 2048000,
      "rowLimit": 10000
     },
     "inputWidgets": {},
     "nuid": "6ad86aad-5439-4c11-b29d-d67a6d573ce8",
     "showTitle": false,
     "tableResultSettingsMap": {},
     "title": ""
    }
   },
   "outputs": [],
   "source": [
    "north_eng_df.dtypes\n",
    "\n",
    "# north_df.describe().show()\n",
    "\n",
    "# north_df.count()\n",
    "\n",
    "# north_df.distinct().count()"
   ]
  },
  {
   "cell_type": "code",
   "execution_count": 0,
   "metadata": {
    "application/vnd.databricks.v1+cell": {
     "cellMetadata": {
      "byteLimit": 2048000,
      "rowLimit": 10000
     },
     "inputWidgets": {},
     "nuid": "e7dc311b-f530-4d73-83b4-db1cfc36f4b9",
     "showTitle": false,
     "tableResultSettingsMap": {},
     "title": ""
    }
   },
   "outputs": [],
   "source": [
    "north_eng_df.describe().display()"
   ]
  },
  {
   "cell_type": "code",
   "execution_count": 0,
   "metadata": {
    "application/vnd.databricks.v1+cell": {
     "cellMetadata": {
      "byteLimit": 2048000,
      "rowLimit": 10000
     },
     "inputWidgets": {},
     "nuid": "8212f4ae-df8f-4f9c-ad67-53cbf85ab3a1",
     "showTitle": false,
     "tableResultSettingsMap": {},
     "title": ""
    }
   },
   "outputs": [],
   "source": [
    "north_eng_df.count()"
   ]
  },
  {
   "cell_type": "code",
   "execution_count": 0,
   "metadata": {
    "application/vnd.databricks.v1+cell": {
     "cellMetadata": {
      "byteLimit": 2048000,
      "rowLimit": 10000
     },
     "inputWidgets": {},
     "nuid": "44162bb4-a494-4cb2-9a60-3c20377014cf",
     "showTitle": false,
     "tableResultSettingsMap": {},
     "title": ""
    }
   },
   "outputs": [],
   "source": [
    "north_eng_df.distinct().count()"
   ]
  },
  {
   "cell_type": "code",
   "execution_count": 0,
   "metadata": {
    "application/vnd.databricks.v1+cell": {
     "cellMetadata": {
      "byteLimit": 2048000,
      "rowLimit": 10000
     },
     "inputWidgets": {},
     "nuid": "8aaaf810-0b05-471f-9b75-d7dcbd906916",
     "showTitle": false,
     "tableResultSettingsMap": {},
     "title": ""
    }
   },
   "outputs": [],
   "source": [
    "pip install ydata-profiling[pyspark]"
   ]
  },
  {
   "cell_type": "code",
   "execution_count": 0,
   "metadata": {
    "application/vnd.databricks.v1+cell": {
     "cellMetadata": {
      "byteLimit": 2048000,
      "rowLimit": 10000
     },
     "inputWidgets": {},
     "nuid": "118856c5-2cdb-49b0-934d-05f610886d56",
     "showTitle": false,
     "tableResultSettingsMap": {},
     "title": ""
    }
   },
   "outputs": [],
   "source": [
    "%restart_python"
   ]
  },
  {
   "cell_type": "code",
   "execution_count": 0,
   "metadata": {
    "application/vnd.databricks.v1+cell": {
     "cellMetadata": {
      "byteLimit": 2048000,
      "rowLimit": 10000
     },
     "inputWidgets": {},
     "nuid": "5f96902c-18e5-44da-93e6-4eaa14ee7a81",
     "showTitle": false,
     "tableResultSettingsMap": {},
     "title": ""
    }
   },
   "outputs": [],
   "source": [
    "north_eng_df.write.format('delta').mode('overwrite').saveAsTable('north_eng')\n",
    "\n",
    "df = spark.table('north_eng')\n",
    "display(df)\n"
   ]
  },
  {
   "cell_type": "code",
   "execution_count": 0,
   "metadata": {
    "application/vnd.databricks.v1+cell": {
     "cellMetadata": {
      "byteLimit": 2048000,
      "rowLimit": 10000
     },
     "inputWidgets": {},
     "nuid": "a65f9ae7-755c-4470-a966-0cce8e4c1273",
     "showTitle": false,
     "tableResultSettingsMap": {},
     "title": ""
    }
   },
   "outputs": [],
   "source": [
    "from ydata_profiling import ProfileReport\n",
    "\n",
    "report = ProfileReport(\n",
    "    df,\n",
    "    title=\"env analysis\",\n",
    "    infer_dtypes=False,\n",
    "    interactions=None,\n",
    "    missing_diagrams=None,\n",
    "    correlations={\n",
    "        \"auto\": {\"calculate\": False},\n",
    "        \"pearson\": {\"calculate\": True},\n",
    "        \"spearman\": {\"calculate\": True},\n",
    "    }\n",
    ")"
   ]
  },
  {
   "cell_type": "code",
   "execution_count": 0,
   "metadata": {
    "application/vnd.databricks.v1+cell": {
     "cellMetadata": {
      "byteLimit": 2048000,
      "rowLimit": 10000
     },
     "inputWidgets": {},
     "nuid": "90b6ad07-3427-4c0b-a45a-aa150a58ce62",
     "showTitle": false,
     "tableResultSettingsMap": {},
     "title": ""
    }
   },
   "outputs": [],
   "source": [
    "report_html = report.to_html()\n"
   ]
  },
  {
   "cell_type": "code",
   "execution_count": 0,
   "metadata": {
    "application/vnd.databricks.v1+cell": {
     "cellMetadata": {},
     "inputWidgets": {},
     "nuid": "dbb09183-9d26-48bd-b223-d9ca96102a51",
     "showTitle": false,
     "tableResultSettingsMap": {},
     "title": ""
    }
   },
   "outputs": [],
   "source": []
  },
  {
   "cell_type": "markdown",
   "metadata": {
    "application/vnd.databricks.v1+cell": {
     "cellMetadata": {},
     "inputWidgets": {},
     "nuid": "aed99f1d-e300-45ed-88d1-00b9232ccfdc",
     "showTitle": false,
     "tableResultSettingsMap": {},
     "title": ""
    }
   },
   "source": [
    "Creating a metadata dictionary:"
   ]
  },
  {
   "cell_type": "code",
   "execution_count": 0,
   "metadata": {
    "application/vnd.databricks.v1+cell": {
     "cellMetadata": {
      "byteLimit": 2048000,
      "rowLimit": 10000
     },
     "inputWidgets": {},
     "nuid": "e8ee963e-fabc-4470-88b3-53a1b72642ff",
     "showTitle": false,
     "tableResultSettingsMap": {},
     "title": ""
    },
    "jupyter": {
     "source_hidden": true
    }
   },
   "outputs": [],
   "source": [
    "# metadata dictionary, as I will be using the abbreviations for column names\n",
    "metadata_dict = {\n",
    "    \"date\": {\n",
    "        \"abbreviation\": \"date\",\n",
    "        \"full_heading\": \"date\",\n",
    "        \"description\": \"date (YYYY-MM-DD)\",\n",
    "        \"data_type\": \"date\"\n",
    "    },\n",
    "    \"hr\": {\n",
    "        \"abbreviation\": \"hr\",\n",
    "        \"full_heading\": \"hour\",\n",
    "        \"description\": \"hour (HH:00)\",\n",
    "        \"data_type\": \"timestamp\"\n",
    "    },\n",
    "    \"prcp\": {\n",
    "        \"abbreviation\": \"prcp\",\n",
    "        \"full_heading\": \"total precipitation (mm)\",\n",
    "        \"description\": \"Amount of precipitation in millimetres (last hour)\",\n",
    "        \"data_type\": \"numerical\"\n",
    "    },\n",
    "    \"stp\": {\n",
    "        \"abbreviation\": \"stp\",\n",
    "        \"full_heading\": \"atmospheric pressure at station height (mb)\",\n",
    "        \"description\": \"Atmospheric pressure at station level (mb)\",\n",
    "        \"data_type\": \"numerical\"\n",
    "    },\n",
    "    \"smax\": {\n",
    "        \"abbreviation\": \"smax\",\n",
    "        \"full_heading\": \"atmospheric pressure max. in the previous hour (mb)\",\n",
    "        \"description\": \"Maximum air pressure for the last hour in hPa to tenths\",\n",
    "        \"data_type\": \"numerical\"\n",
    "    },\n",
    "    \"smin\": {\n",
    "        \"abbreviation\": \"smin\",\n",
    "        \"full_heading\": \"atmospheric pressure min. in the previous hour (mb)\",\n",
    "        \"description\": \"Minimum air pressure for the last hour in hPa to tenths\",\n",
    "        \"data_type\": \"numerical\"\n",
    "    },\n",
    "    \"gbrd\": {\n",
    "        \"abbreviation\": \"gbrd\",\n",
    "        \"full_heading\": \"radiation (kj/m2)\",\n",
    "        \"description\": \"Solar radiation KJ/m2\",\n",
    "        \"data_type\": \"numerical\"\n",
    "    },\n",
    "    \"temp\": {\n",
    "        \"abbreviation\": \"temp\",\n",
    "        \"full_heading\": \"air temperature - dry bulb (°c)\",\n",
    "        \"description\": \"Air temperature (instant) in celsius degrees\",\n",
    "        \"data_type\": \"numerical\"\n",
    "    },\n",
    "    \"dewp\": {\n",
    "        \"abbreviation\": \"dewp\",\n",
    "        \"full_heading\": \"dew point temperature (°c)\",\n",
    "        \"description\": \"Dew point temperature (instant) in celsius degrees\",\n",
    "        \"data_type\": \"numerical\"\n",
    "    },\n",
    "    \"tmax\": {\n",
    "        \"abbreviation\": \"tmax\",\n",
    "        \"full_heading\": \"max. temperature in the previous hour (°c)\",\n",
    "        \"description\": \"Maximum temperature for the last hour in celsius degrees\",\n",
    "        \"data_type\": \"numerical\"\n",
    "    },\n",
    "    \"tmin\": {\n",
    "        \"abbreviation\": \"tmin\",\n",
    "        \"full_heading\": \"min. temperature in the previous hour (°c)\",\n",
    "        \"description\": \"Minimum temperature for the last hour in celsius degrees\",\n",
    "        \"data_type\": \"numerical\"\n",
    "    },\n",
    "    \"dmax\": {\n",
    "        \"abbreviation\": \"dmax\",\n",
    "        \"full_heading\": \"dew temperature max. in the previous hour (°c)\",\n",
    "        \"description\": \"Maximum dew point temperature for the last hour in celsius degrees\",\n",
    "        \"data_type\": \"numerical\"\n",
    "    },\n",
    "    \"dmin\": {\n",
    "        \"abbreviation\": \"dmin\",\n",
    "        \"full_heading\": \"dew temperature min. in the previous hour (°c)\",\n",
    "        \"description\": \"Minimum dew point temperature for the last hour in celsius degrees\",\n",
    "        \"data_type\": \"numerical\"\n",
    "    },\n",
    "    \"hmax\": {\n",
    "        \"abbreviation\": \"hmax\",\n",
    "        \"full_heading\": \"relative humidity max. in the previous hour (%)\",\n",
    "        \"description\": \"Maximum relative humid temperature for the last hour in %\",\n",
    "        \"data_type\": \"numerical\"\n",
    "    },\n",
    "    \"hmin\": {\n",
    "        \"abbreviation\": \"hmin\",\n",
    "        \"full_heading\": \"relative humidity min. in the previous hour (%)\",\n",
    "        \"description\": \"Minimum relative humid temperature for the last hour in %\",\n",
    "        \"data_type\": \"numerical\"\n",
    "    },\n",
    "    \"hmdy\": {\n",
    "        \"abbreviation\": \"hmdy\",\n",
    "        \"full_heading\": \"air relative humidity (%)\",\n",
    "        \"description\": \"Relative humid in % (instant)\",\n",
    "        \"data_type\": \"numerical\"\n",
    "    },\n",
    "    \"wdct\": {\n",
    "        \"abbreviation\": \"wdct\",\n",
    "        \"full_heading\": \"wind direction (° (gr))\",\n",
    "        \"description\": \"Wind direction in radius degrees (0-360)\",\n",
    "        \"data_type\": \"numerical\"\n",
    "    },\n",
    "    \"gust\": {\n",
    "        \"abbreviation\": \"gust\",\n",
    "        \"full_heading\": \"wind rajada maxima (m/s)\",\n",
    "        \"description\": \"Wind gust in metres per second\",\n",
    "        \"data_type\": \"numerical\"\n",
    "    },\n",
    "    \"wdsp\": {\n",
    "        \"abbreviation\": \"wdsp\",\n",
    "        \"full_heading\": \"wind speed (m/s)\",\n",
    "        \"description\": \"Wind speed in metres per second\",\n",
    "        \"data_type\": \"numerical\"\n",
    "    },\n",
    "    \"region\": {\n",
    "        \"abbreviation\": \"region\",\n",
    "        \"full_heading\": \"region\",\n",
    "        \"description\": \"Brazilian geopolitical regions\",\n",
    "        \"data_type\": \"string\"\n",
    "    },\n",
    "    \"stateprov\": {\n",
    "        \"abbreviation\": \"stateprov\",\n",
    "        \"full_heading\": \"state\",\n",
    "        \"description\": \"State (Province)\",\n",
    "        \"data_type\": \"string\"\n",
    "    },\n",
    "    \"wsnm\": {\n",
    "        \"abbreviation\": \"wsnm\",\n",
    "        \"full_heading\": \"station\",\n",
    "        \"description\": \"Name station (usually city location or nickname)\",\n",
    "        \"data_type\": \"string\"\n",
    "    },\n",
    "    \"inme\": {\n",
    "        \"abbreviation\": \"inme\",\n",
    "        \"full_heading\": \"station_code\",\n",
    "        \"description\": \"Station number (INMET number) for the location\",\n",
    "        \"data_type\": \"string\"\n",
    "    },\n",
    "    \"lat\": {\n",
    "        \"abbreviation\": \"lat\",\n",
    "        \"full_heading\": \"latitude\",\n",
    "        \"description\": \"Latitude\",\n",
    "        \"data_type\": \"numerical\"\n",
    "    },\n",
    "    \"lon\": {\n",
    "        \"abbreviation\": \"lon\",\n",
    "        \"full_heading\": \"longitude\",\n",
    "        \"description\": \"Longitude\",\n",
    "        \"data_type\": \"numerical\"\n",
    "    },\n",
    "    \"elvt\": {\n",
    "        \"abbreviation\": \"elvt\",\n",
    "        \"full_heading\": \"height\",\n",
    "        \"description\": \"Elevation\",\n",
    "        \"data_type\": \"numerical\"\n",
    "    }\n",
    "}"
   ]
  }
 ],
 "metadata": {
  "application/vnd.databricks.v1+notebook": {
   "computePreferences": null,
   "dashboards": [],
   "environmentMetadata": {
    "base_environment": "",
    "environment_version": "3"
   },
   "inputWidgetPreferences": null,
   "language": "python",
   "notebookMetadata": {
    "pythonIndentUnit": 4
   },
   "notebookName": "data-exploration-notebook",
   "widgets": {}
  },
  "language_info": {
   "name": "python"
  }
 },
 "nbformat": 4,
 "nbformat_minor": 0
}